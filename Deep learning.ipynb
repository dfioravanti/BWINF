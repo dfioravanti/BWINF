{
 "cells": [
  {
   "cell_type": "markdown",
   "metadata": {},
   "source": [
    "# Deep learning"
   ]
  },
  {
   "cell_type": "markdown",
   "metadata": {},
   "source": [
    "\n",
    "## This tutorial\n",
    "\n",
    "In this tutorial we will explore some basic deep learning. As before this is an interractive tutorial so after we introduce a concept we will let you experiement with some tasks and learning by doing. \n",
    "\n",
    "We will use two datasets the one we use for the examples is called MNIST (https://en.wikipedia.org/wiki/MNIST_database) and it is composed of figures like \n",
    "\n",
    "![title](images/MnistExamples.png)\n",
    "\n",
    "each of which is encoded with 28x28 pixels and comes with a label attached that represents which digits that image contains. \n",
    "\n",
    "Meanwhile the dataset you will use in the execises is a subset of the Quick!Draw! dataset created by Google (https://github.com/googlecreativelab/quickdraw-dataset)and it is composed of figures like\n",
    "\n",
    "![title](images/QuickDraw.jpg)"
   ]
  },
  {
   "cell_type": "markdown",
   "metadata": {},
   "source": [
    "## Loading the data"
   ]
  },
  {
   "cell_type": "code",
   "execution_count": 36,
   "metadata": {},
   "outputs": [],
   "source": [
    "import torch\n",
    "from torchvision import datasets, transforms"
   ]
  },
  {
   "cell_type": "code",
   "execution_count": 34,
   "metadata": {},
   "outputs": [],
   "source": [
    "transform = transforms.Compose(\n",
    "    [transforms.ToTensor(),\n",
    "     transforms.transforms.Normalize((0.1307,), (0.3081,))])\n",
    "\n",
    "trainset = datasets.MNIST(root='./data', train=True,\n",
    "                          download=True, transform=transform)\n",
    "testset = datasets.MNIST(root='./data', train=False,\n",
    "                          download=True, transform=transform)"
   ]
  },
  {
   "cell_type": "code",
   "execution_count": 35,
   "metadata": {},
   "outputs": [],
   "source": [
    "trainloader = torch.utils.data.DataLoader(trainset, batch_size=100,\n",
    "                                          shuffle=True, num_workers=2)\n",
    "testloader = torch.utils.data.DataLoader(testset, batch_size=100,\n",
    "                                          shuffle=False, num_workers=2)"
   ]
  },
  {
   "cell_type": "markdown",
   "metadata": {},
   "source": [
    "## Defining our model"
   ]
  },
  {
   "cell_type": "markdown",
   "metadata": {},
   "source": [
    "### Fully connected"
   ]
  },
  {
   "cell_type": "code",
   "execution_count": 4,
   "metadata": {},
   "outputs": [],
   "source": [
    "import torch.nn as nn\n",
    "import torch.nn.functional as F"
   ]
  },
  {
   "cell_type": "code",
   "execution_count": 5,
   "metadata": {},
   "outputs": [
    {
     "data": {
      "text/plain": [
       "FCNet(\n",
       "  (fc1): Linear(in_features=784, out_features=120, bias=True)\n",
       "  (fc2): Linear(in_features=120, out_features=84, bias=True)\n",
       "  (fc3): Linear(in_features=84, out_features=10, bias=True)\n",
       ")"
      ]
     },
     "execution_count": 5,
     "metadata": {},
     "output_type": "execute_result"
    }
   ],
   "source": [
    "class FCNet(nn.Module):\n",
    "    def __init__(self):\n",
    "        self.input_size = 28*28\n",
    "        \n",
    "        super(FCNet, self).__init__()\n",
    "        self.fc1 = nn.Linear(self.input_size, 120)\n",
    "        self.fc2 = nn.Linear(120, 84)\n",
    "        self.fc3 = nn.Linear(84, 10)\n",
    "\n",
    "    def forward(self, x):\n",
    "        x = x.view(-1, self.input_size)\n",
    "        x = F.relu(self.fc1(x))\n",
    "        x = F.relu(self.fc2(x))\n",
    "        x = self.fc3(x)\n",
    "        return x\n",
    "\n",
    "net = FCNet()\n",
    "net"
   ]
  },
  {
   "cell_type": "markdown",
   "metadata": {},
   "source": [
    "## Defining the loss function"
   ]
  },
  {
   "cell_type": "code",
   "execution_count": 12,
   "metadata": {},
   "outputs": [],
   "source": [
    "import torch.optim as optim\n",
    "\n",
    "criterion = nn.CrossEntropyLoss()\n",
    "optimizer = optim.SGD(net.parameters(), lr=0.001, momentum=0.9)"
   ]
  },
  {
   "cell_type": "markdown",
   "metadata": {},
   "source": [
    "## Training"
   ]
  },
  {
   "cell_type": "code",
   "execution_count": 21,
   "metadata": {},
   "outputs": [],
   "source": [
    "nb_epochs = 20"
   ]
  },
  {
   "cell_type": "code",
   "execution_count": 22,
   "metadata": {},
   "outputs": [],
   "source": [
    "import numpy as np\n",
    "loss_epochs = np.empty(nb_epochs)"
   ]
  },
  {
   "cell_type": "code",
   "execution_count": 32,
   "metadata": {},
   "outputs": [
    {
     "name": "stdout",
     "output_type": "stream",
     "text": [
      "Epoch: 0 ===> Loss: 0.009068627800055159\n",
      "Epoch: 1 ===> Loss: 0.00881536879169289\n",
      "Epoch: 2 ===> Loss: 0.008522477977482292\n",
      "Epoch: 3 ===> Loss: 0.008330650689798252\n",
      "Epoch: 4 ===> Loss: 0.008091479853416482\n",
      "Epoch: 5 ===> Loss: 0.007896879347778546\n",
      "Epoch: 6 ===> Loss: 0.007674086875922513\n",
      "Epoch: 7 ===> Loss: 0.007512261573574506\n",
      "Epoch: 8 ===> Loss: 0.007325040311455571\n",
      "Epoch: 9 ===> Loss: 0.007042127434688155\n",
      "Epoch: 10 ===> Loss: 0.006920947629938988\n",
      "Epoch: 11 ===> Loss: 0.0066627528996711285\n",
      "Epoch: 12 ===> Loss: 0.006514880115961811\n",
      "Epoch: 13 ===> Loss: 0.0063373622718305945\n",
      "Epoch: 14 ===> Loss: 0.00624163850103893\n",
      "Epoch: 15 ===> Loss: 0.006047018334211316\n",
      "Epoch: 16 ===> Loss: 0.005937572974168385\n",
      "Epoch: 17 ===> Loss: 0.005761319144803565\n",
      "Epoch: 18 ===> Loss: 0.005640596626132416\n",
      "Epoch: 19 ===> Loss: 0.0055113996596386034\n",
      "Finished Training\n"
     ]
    }
   ],
   "source": [
    "for epoch in range(nb_epochs):  # loop over the dataset multiple times\n",
    "    \n",
    "    running_loss = 0.0\n",
    "    for i, data in enumerate(trainloader, 0):\n",
    "        # get the inputs\n",
    "        inputs, labels = data\n",
    "\n",
    "        # zero the parameter gradients\n",
    "        optimizer.zero_grad()\n",
    "\n",
    "        # forward + backward + optimize\n",
    "        outputs = net(inputs)\n",
    "        loss = criterion(outputs, labels)\n",
    "        loss.backward()\n",
    "        optimizer.step()\n",
    "\n",
    "        # print statistics\n",
    "        running_loss += loss.item()\n",
    "    \n",
    "    average_loss = running_loss / len(trainloader)\n",
    "    loss_epochs[epoch] = average_loss\n",
    "    \n",
    "    print(f'Epoch: {epoch} ===> Loss: {average_loss}')\n",
    "\n",
    "print('Finished Training')"
   ]
  },
  {
   "cell_type": "markdown",
   "metadata": {},
   "source": [
    "## Plotting"
   ]
  },
  {
   "cell_type": "code",
   "execution_count": 25,
   "metadata": {},
   "outputs": [],
   "source": [
    "import matplotlib.pyplot as plt\n",
    "import numpy as np\n",
    "\n",
    "def show(img):\n",
    "    npimg = img.numpy()\n",
    "    plt.imshow(np.transpose(npimg, (1,2,0)))"
   ]
  },
  {
   "cell_type": "code",
   "execution_count": 26,
   "metadata": {},
   "outputs": [
    {
     "name": "stderr",
     "output_type": "stream",
     "text": [
      "Clipping input data to the valid range for imshow with RGB data ([0..1] for floats or [0..255] for integers).\n"
     ]
    },
    {
     "data": {
      "image/png": "[encoded data removed]",
      "text/plain": [
       "<Figure size 432x288 with 1 Axes>"
      ]
     },
     "metadata": {},
     "output_type": "display_data"
    }
   ],
   "source": [
    "from torchvision.utils import make_grid\n",
    "\n",
    "dataiter = iter(testloader)\n",
    "images, labels = dataiter.next()\n",
    "\n",
    "img = images.view((-1, 1, 28, 28))\n",
    "grid = make_grid(img, nrow=10)\n",
    "\n",
    "# print images\n",
    "show(grid)"
   ]
  },
  {
   "cell_type": "code",
   "execution_count": 27,
   "metadata": {},
   "outputs": [],
   "source": [
    "outputs = net(images)\n",
    "_, predicted = torch.max(outputs, 1)"
   ]
  },
  {
   "cell_type": "code",
   "execution_count": 28,
   "metadata": {},
   "outputs": [
    {
     "data": {
      "text/plain": [
       "tensor([[2, 9, 9, 0, 6, 6, 7, 3, 0, 2],\n",
       "        [4, 2, 2, 3, 3, 8, 3, 9, 9, 7],\n",
       "        [1, 0, 1, 8, 9, 2, 9, 6, 7, 6],\n",
       "        [0, 7, 7, 4, 7, 3, 9, 6, 6, 1],\n",
       "        [7, 3, 7, 9, 4, 0, 7, 0, 7, 8],\n",
       "        [9, 4, 6, 7, 5, 1, 0, 7, 8, 4],\n",
       "        [0, 5, 3, 8, 5, 0, 7, 1, 0, 5],\n",
       "        [8, 5, 9, 9, 2, 8, 5, 5, 9, 7],\n",
       "        [0, 9, 0, 8, 0, 3, 5, 1, 2, 9],\n",
       "        [5, 2, 2, 0, 6, 1, 9, 8, 1, 0]])"
      ]
     },
     "execution_count": 28,
     "metadata": {},
     "output_type": "execute_result"
    }
   ],
   "source": [
    "predicted.view(10,10)"
   ]
  },
  {
   "cell_type": "markdown",
   "metadata": {},
   "source": [
    "## Accuracy"
   ]
  },
  {
   "cell_type": "code",
   "execution_count": 31,
   "metadata": {},
   "outputs": [
    {
     "name": "stdout",
     "output_type": "stream",
     "text": [
      "Test accuracy: 0.13304414354613983\n"
     ]
    }
   ],
   "source": [
    "for i, data in enumerate(testloader):\n",
    "    \n",
    "    inputs, labels = data\n",
    "    outputs = net(inputs)\n",
    "    loss = criterion(outputs, labels)\n",
    "    running_loss += loss.item()\n",
    "    \n",
    "average_loss = running_loss / len(testloader)\n",
    "print(f'Test accuracy: {average_loss}')"
   ]
  },
  {
   "cell_type": "code",
   "execution_count": null,
   "metadata": {},
   "outputs": [],
   "source": []
  }
 ],
 "metadata": {
  "kernelspec": {
   "display_name": "Python 3",
   "language": "python",
   "name": "python3"
  },
  "language_info": {
   "codemirror_mode": {
    "name": "ipython",
    "version": 3
   },
   "file_extension": ".py",
   "mimetype": "text/x-python",
   "name": "python",
   "nbconvert_exporter": "python",
   "pygments_lexer": "ipython3",
   "version": "3.6.7"
  }
 },
 "nbformat": 4,
 "nbformat_minor": 2
}
