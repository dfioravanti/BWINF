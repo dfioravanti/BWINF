{
 "cells": [
  {
   "cell_type": "markdown",
   "metadata": {},
   "source": [
    "# Deep learning - Jugendforum Informatik\n",
    "---"
   ]
  },
  {
   "cell_type": "markdown",
   "metadata": {},
   "source": [
    "This is just to make the notebook look prettier. It is modifying the HTML code of the notebook so the caption of the figures is centered. "
   ]
  },
  {
   "cell_type": "code",
   "execution_count": 5,
   "metadata": {},
   "outputs": [
    {
     "data": {
      "text/html": [
       "\n",
       "<style>\n",
       ".center {\n",
       "  text-align: center;\n",
       "}\n",
       "</style>\n"
      ],
      "text/plain": [
       "<IPython.core.display.HTML object>"
      ]
     },
     "execution_count": 5,
     "metadata": {},
     "output_type": "execute_result"
    }
   ],
   "source": [
    "from IPython.core.display import HTML\n",
    "HTML(\"\"\"\n",
    "<style>\n",
    ".center {\n",
    "  text-align: center;\n",
    "}\n",
    "</style>\n",
    "\"\"\")"
   ]
  },
  {
   "cell_type": "markdown",
   "metadata": {},
   "source": [
    "## Introduction\n",
    "---"
   ]
  },
  {
   "cell_type": "markdown",
   "metadata": {},
   "source": [
    "Deep learning is based on the following intuition: complex objects are composed of simpler ones. So combining simple objects in the right way we should be able to represent something more complex, now if we combine more complex objects we can represent even more complex ones and so on. \n",
    "\n",
    "This raises the question of can we represent this intuition in a computer. The answer are **artificial neural networks** (NN for short)."
   ]
  },
  {
   "cell_type": "markdown",
   "metadata": {},
   "source": [
    "\n",
    "## This tutorial\n",
    "\n",
    "In this tutorial we will explore some basic deep learning. As before this is an interractive tutorial so after we introduce a concept we will let you experiement with some tasks and learning by doing. \n",
    "\n",
    "We will use two datasets the one we use for the examples is called MNIST (https://en.wikipedia.org/wiki/MNIST_database) and it is composed of figures like \n",
    "\n",
    "<img src=\"./images/MnistExamples.png\" alt=\"MNIST\" width=\"500\"/>\n",
    "<div class=\"center\"> \n",
    "    source: <a href=\"https://corochann.com/mnist-dataset-introduction-1138.html\"> \n",
    "        corochann.com\n",
    "    </a>\n",
    "    <br/><br/>\n",
    "</div>\n",
    "each of which is encoded with 28x28 pixels and comes with a label attached that represents which digits that image contains. \n",
    "\n",
    "Meanwhile the dataset you will use in the execises is a subset of the Quick, Draw! dataset created by Google (https://github.com/googlecreativelab/quickdraw-dataset) and it is composed of figures like\n",
    "\n",
    "<img src=\"./images/QuickDraw.jpg\" alt=\"QuickDraw\" width=\"1000\"/>\n",
    "\n",
    "<div class=\"center\"> \n",
    "    source: <a href=\"https://quickdraw.withgoogle.com/data\"> \n",
    "        Quick, Draw!\n",
    "    </a>\n",
    "    <br/><br/>\n",
    "</div>\n",
    "\n",
    "\n",
    "but before start with this complex datasets let us introduce what a neural network is and how it works."
   ]
  },
  {
   "cell_type": "markdown",
   "metadata": {},
   "source": [
    "## Artificial Neurons\n",
    "---\n",
    "\n",
    "As the name implies artificial neural networks are vaguelly inspired by how our brain works. The brain is composed by a bunch of neurons that comunitate among themselves. \n",
    "\n",
    "<img src=\"./images/neuron.svg\" alt=\"How a neuron works\" width=\"700\"/>\n",
    "\n",
    "<div class=\"center\"> \n",
    "    source: <a href=\"https://en.wikipedia.org/wiki/Neuron\"> \n",
    "        Wikipedia\n",
    "    </a>\n",
    "    <br/><br/>\n",
    "</div>\n",
    "\n",
    "\n",
    "this is modeled in an artificial neuron like this:\n",
    "\n",
    "  1. We take an **input** $x_i$ and we multiply it by a weight $w_i$.\n",
    "  *  We add all the input a **weight** together $\\sum_i x_iw_i$\n",
    "  *  We add a fixed value $b$ called **bias**\n",
    "  *  We use an **activation function** that determines what the final output will be\n",
    "  \n",
    "In a nice diagram we will have\n",
    "\n",
    "<img src=\"./images/ArtificialNeuron.svg\" alt=\"Artificial neuron\" width=\"700\"/>\n",
    "\n",
    "this can be a bit overwelming but do not worry, one more concept and we will have an example to play with"
   ]
  },
  {
   "cell_type": "markdown",
   "metadata": {},
   "source": [
    "### Artificial Neural Netwoks\n",
    "---\n",
    "\n",
    "Artificial neural netwoks are just a series of artificial neurons one organised in a network\n",
    "\n",
    "<img src=\"./images/ANN.svg\" alt=\"Artificial neural network\" width=\"300\"/>\n",
    "\n",
    "<div class=\"center\"> \n",
    "    source: <a href=\"https://en.wikipedia.org/wiki/Artificial_neural_network\"> \n",
    "        Wikipedia\n",
    "    </a>\n",
    "    <br/><br/>\n",
    "</div>\n",
    "\n",
    "the collection of all the neurons at the same depth (the different colors in the pictures) is called a **layer**. The first layer is called **input layer**, the last **output layer** and everything in between **hidden layer**."
   ]
  },
  {
   "cell_type": "markdown",
   "metadata": {},
   "source": [
    "#### Exercise: The xor problem\n",
    "---\n",
    "\n",
    "Enough talking let us try to make everything we just said concrete. We want to create a network that can solve the xor problem. Xor stays for exclusive or and it works like this\n",
    "\n",
    "|  a/b | 0 | 1 |\n",
    "|------|---|---|\n",
    "| 0    | 0 | 1 |\n",
    "| 1    | 1 | 0 |\n",
    "\n",
    "now, take a piece of paper and try to fill in the following diagram so that you can get the table above\n",
    "\n",
    "<img src=\"./images/xor.png\" alt=\"xor\" width=\"500\"/>\n"
   ]
  },
  {
   "cell_type": "markdown",
   "metadata": {},
   "source": [
    "### Activation functions\n",
    "---\n",
    "\n",
    "The activation function is the magic that really make the neural network work. A neural network without activation function it is too simple but with activation function it can reppresent any possible function between our inputs and our outputs.\n",
    "\n",
    "There are a lot of activation possible function\n",
    "\n",
    "<img src=\"./images/Activations.png\" alt=\"Activations\" width=\"500\"/>\n",
    "\n",
    "<div class=\"center\"> \n",
    "    source: <a href=\"https://en.wikipedia.org/wiki/Activation_function\"> \n",
    "        Wikipedia\n",
    "    </a>\n",
    "    <br/><br/>\n",
    "</div>\n",
    "\n",
    "but we care only about the **ReLU** which is defined as\n",
    "$$\n",
    "f(x) = \\begin{cases}\n",
    "0 &\\text{ if } x \\leq 0\\\\\n",
    "x &\\text{ otherwise}\n",
    "\\end{cases}\n",
    "$$"
   ]
  },
  {
   "cell_type": "markdown",
   "metadata": {},
   "source": [
    "<img src=\"./images/ReLU.svg\" alt=\"ReLU\" width=\"500\"/>\n"
   ]
  },
  {
   "cell_type": "markdown",
   "metadata": {},
   "source": [
    "### Traning\n",
    "---\n",
    "\n",
    "As with any machine learning algorthm we need to tune and adjust some internal parameters so that the algormithm makes better predictions. In the case of neural networks those parameters are the weights in the artificial neurons. \n",
    "\n",
    "The intuition is that the weight $w_i$ tells how much the input $x_i$ will affect the output $y$. So if we tune all the $w_i$ in such a way that the prediction $\\hat{y}$ matches the real $y$ as often as possible we have learned a good relationship that transforms $x$ to $y$. For a wonderful visual explanation you should watch https://www.youtube.com/watch?v=aircAruvnKk\n",
    "\n",
    "The question remains of how do we adjust the weights. This unfortunately requires more math than you know but roughtly speaking it works like this. We start with a neural network with random weights. This of course will produce a terrible prediction $\\hat{y}$. We compare $y$ and $\\hat{y}$ and then mathematics provides a way to know how we need to adjust all the weights in order to produce a better prediction. This is called the **gradient** and the algorithm that allows us to compute for a neural network is called **back propagation**. Once we have this new weights, we make a new prediction, compare it and adjust the weight again until we are happy with the result.\n",
    "\n",
    "You can find more informations here https://www.youtube.com/playlist?list=PLZHQObOWTQDNU6R1_67000Dx_ZCJB-3pi"
   ]
  },
  {
   "cell_type": "markdown",
   "metadata": {},
   "source": [
    "### Interactive \n",
    "---\n",
    "All this was quite teoretical, google provides a nice webpage that allows us to make it a bit more practical http://playground.tensorflow.org/"
   ]
  },
  {
   "cell_type": "markdown",
   "metadata": {},
   "source": [
    "## Pytorch\n",
    "---\n",
    "\n",
    "Let us start with implementing our own neural network. As said above we will use MNIST to present the concepts and then you will practice on the Draw!Quick! dataset.\n",
    "\n",
    "There are many different frameworks that can be used for deeplearning. The two major ones are: PyTorch (https://pytorch.org/) and TensorFlow (https://www.tensorflow.org/). We will use PyTorch."
   ]
  },
  {
   "cell_type": "markdown",
   "metadata": {},
   "source": [
    "### Loading the data\n",
    "---\n",
    "\n",
    "As with any other machine learning system we need to import the data into our pc. PyTorch makes it easy for us. \n",
    "\n",
    "First let us import PyTorch and the functions that allow us to work with datasets"
   ]
  },
  {
   "cell_type": "code",
   "execution_count": 1,
   "metadata": {},
   "outputs": [],
   "source": [
    "import torch\n",
    "from torchvision import datasets, transforms"
   ]
  },
  {
   "cell_type": "markdown",
   "metadata": {},
   "source": [
    "Then we import the MNIST dataset"
   ]
  },
  {
   "cell_type": "code",
   "execution_count": 2,
   "metadata": {},
   "outputs": [],
   "source": [
    "transform = transforms.Compose(\n",
    "    [transforms.ToTensor(),\n",
    "     transforms.transforms.Normalize((0.1307,), (0.3081,))])\n",
    "\n",
    "trainset = datasets.MNIST(root='./data', train=True,\n",
    "                          download=True, transform=transform)\n",
    "testset = datasets.MNIST(root='./data', train=False,\n",
    "                          download=True, transform=transform)"
   ]
  },
  {
   "cell_type": "markdown",
   "metadata": {},
   "source": [
    "And then we create a dataloader. A dataloader is a nice function provided by pytorch that automatically does some thigs for us. For example the follows does\n",
    " * Divides the dataset in chunks of 100 element. Every chunk is called **batch**. This is usefull when the dataset is too big to be loaded in a GPU in one go\n",
    " * If required it shuffles the dataset\n",
    " * It uses 2 parallel operations to load the data (just to speed up)"
   ]
  },
  {
   "cell_type": "code",
   "execution_count": 3,
   "metadata": {},
   "outputs": [],
   "source": [
    "trainloader = torch.utils.data.DataLoader(trainset, batch_size=100,\n",
    "                                          shuffle=True, num_workers=2)\n",
    "testloader = torch.utils.data.DataLoader(testset, batch_size=100,\n",
    "                                          shuffle=False, num_workers=2)"
   ]
  },
  {
   "cell_type": "markdown",
   "metadata": {},
   "source": [
    "#### Exercise\n",
    "---\n",
    "Do the same with the Quick!Draw! dataset"
   ]
  },
  {
   "cell_type": "code",
   "execution_count": null,
   "metadata": {},
   "outputs": [],
   "source": []
  },
  {
   "cell_type": "markdown",
   "metadata": {},
   "source": [
    "### Defining our model\n",
    "---\n"
   ]
  },
  {
   "cell_type": "code",
   "execution_count": 4,
   "metadata": {},
   "outputs": [],
   "source": [
    "import torch.nn as nn\n",
    "import torch.nn.functional as F"
   ]
  },
  {
   "cell_type": "markdown",
   "metadata": {},
   "source": [
    "\n",
    "Now we arrive at the first important decision we need to make. The so called **topology** of the network, which is a fancy word for saying that we need to decide how many neurons and layers we want to use.\n",
    "\n",
    "Let us first thing about which choices are mandatory. Our input will be a $28\\times 28$ image, so it has $784$ pixels. That will be our input size. The output similarly is easy. We are predicting a digit so we have 10 classes: $0, \\ldots, 9$.\n",
    "\n",
    "Everything else is up to us. We will start easy. We will use a **fully connected** model, this simply means that every neuron in one layer is connected to all the neurons in the previous and following layers. And we will use one hidden layer with 100 neurons."
   ]
  },
  {
   "cell_type": "code",
   "execution_count": 5,
   "metadata": {},
   "outputs": [
    {
     "data": {
      "text/plain": [
       "OneHidden(\n",
       "  (fc1): Linear(in_features=784, out_features=100, bias=True)\n",
       "  (fc2): Linear(in_features=100, out_features=10, bias=True)\n",
       ")"
      ]
     },
     "execution_count": 5,
     "metadata": {},
     "output_type": "execute_result"
    }
   ],
   "source": [
    "class OneHidden(nn.Module):\n",
    "    def __init__(self):\n",
    "        self.input_size = 28*28\n",
    "        \n",
    "        super(OneHidden, self).__init__()\n",
    "        self.fc1 = nn.Linear(self.input_size, 100)\n",
    "        self.fc2 = nn.Linear(100, 10)\n",
    "\n",
    "    def forward(self, x):\n",
    "        x = x.view(-1, self.input_size)\n",
    "        x = F.relu(self.fc1(x))\n",
    "        x = self.fc2(x)\n",
    "        return x\n",
    "\n",
    "net = OneHidden()\n",
    "net"
   ]
  },
  {
   "cell_type": "markdown",
   "metadata": {},
   "source": [
    "#### Exercise\n",
    "---\n",
    "Create a network with 2 hidden layers, one with 100 neurons and one with 50"
   ]
  },
  {
   "cell_type": "code",
   "execution_count": null,
   "metadata": {},
   "outputs": [],
   "source": []
  },
  {
   "cell_type": "markdown",
   "metadata": {},
   "source": [
    "### Defining the loss function\n",
    "---\n",
    "There is another choice that we need to make in order to train a neural network. How do we want to measure the distance between our prediction and the real value. We will simply count the number of wrong predictions. This is done like this in PyTorch."
   ]
  },
  {
   "cell_type": "code",
   "execution_count": 6,
   "metadata": {},
   "outputs": [],
   "source": [
    "criterion = nn.CrossEntropyLoss()"
   ]
  },
  {
   "cell_type": "markdown",
   "metadata": {},
   "source": [
    "The following code creates the object that is able to update the weights at every iteration."
   ]
  },
  {
   "cell_type": "code",
   "execution_count": 7,
   "metadata": {},
   "outputs": [],
   "source": [
    "import torch.optim as optim\n",
    "optimizer = optim.SGD(net.parameters(), lr=0.001, momentum=0.9)"
   ]
  },
  {
   "cell_type": "markdown",
   "metadata": {},
   "source": [
    "### Training\n",
    "---"
   ]
  },
  {
   "cell_type": "markdown",
   "metadata": {},
   "source": [
    "We finally arrived to the fun part. Let us see our network improve and make better and better predictions.\n",
    "\n",
    "First we need to specify how many **epochs** we want our training to last. As we said before almost always we divide our datasets into chuncks or batch and we feed one batch after the other to the algorithm. An epoch passed when we feed all our data to the algorithm. "
   ]
  },
  {
   "cell_type": "code",
   "execution_count": 8,
   "metadata": {},
   "outputs": [],
   "source": [
    "nb_epochs = 20"
   ]
  },
  {
   "cell_type": "markdown",
   "metadata": {},
   "source": [
    "We want to keep track of how many mistakes we make for every epoch so we can make a nice plot later"
   ]
  },
  {
   "cell_type": "code",
   "execution_count": 9,
   "metadata": {},
   "outputs": [],
   "source": [
    "import numpy as np\n",
    "loss_epochs = np.empty(nb_epochs)"
   ]
  },
  {
   "cell_type": "markdown",
   "metadata": {},
   "source": [
    "This is the main loop for our algorithm"
   ]
  },
  {
   "cell_type": "code",
   "execution_count": 10,
   "metadata": {},
   "outputs": [],
   "source": [
    "def training(nb_epochs, net):\n",
    "    for epoch in range(nb_epochs):  # loop over the dataset multiple times\n",
    "\n",
    "        running_loss = 0.0\n",
    "        for i, data in enumerate(trainloader, 0):\n",
    "            # get the inputs\n",
    "            inputs, labels = data\n",
    "\n",
    "            # zero the parameter gradients\n",
    "            optimizer.zero_grad()\n",
    "\n",
    "            # forward + backward + optimize\n",
    "            outputs = net(inputs)\n",
    "            loss = criterion(outputs, labels)\n",
    "            loss.backward()\n",
    "            optimizer.step()\n",
    "\n",
    "            # print statistics\n",
    "            running_loss += loss.item()\n",
    "\n",
    "        average_loss = running_loss / len(trainloader)\n",
    "        loss_epochs[epoch] = average_loss\n",
    "\n",
    "        print(f'Epoch: {epoch} ===> Loss: {average_loss}')\n"
   ]
  },
  {
   "cell_type": "code",
   "execution_count": 11,
   "metadata": {},
   "outputs": [
    {
     "name": "stdout",
     "output_type": "stream",
     "text": [
      "Epoch: 0 ===> Loss: 0.7553642100095749\n",
      "Epoch: 1 ===> Loss: 0.34524030178785325\n",
      "Epoch: 2 ===> Loss: 0.29461314968764785\n",
      "Epoch: 3 ===> Loss: 0.2638413970917463\n",
      "Epoch: 4 ===> Loss: 0.24019966304302215\n",
      "Epoch: 5 ===> Loss: 0.22072690609842538\n",
      "Epoch: 6 ===> Loss: 0.20439922851199904\n",
      "Epoch: 7 ===> Loss: 0.19051838581139843\n",
      "Epoch: 8 ===> Loss: 0.17850567176317175\n",
      "Epoch: 9 ===> Loss: 0.1677377288788557\n",
      "Epoch: 10 ===> Loss: 0.15841704634949566\n",
      "Epoch: 11 ===> Loss: 0.1501916926788787\n",
      "Epoch: 12 ===> Loss: 0.1427325017315646\n",
      "Epoch: 13 ===> Loss: 0.1359900146101912\n",
      "Epoch: 14 ===> Loss: 0.1297139455471188\n",
      "Epoch: 15 ===> Loss: 0.12445436235517264\n",
      "Epoch: 16 ===> Loss: 0.11921331595319012\n",
      "Epoch: 17 ===> Loss: 0.11454573535049956\n",
      "Epoch: 18 ===> Loss: 0.11029038236786921\n",
      "Epoch: 19 ===> Loss: 0.10597086585437258\n",
      "Finished Training\n"
     ]
    }
   ],
   "source": [
    "training(nb_epochs, net)\n",
    "print('Finished Training')"
   ]
  },
  {
   "cell_type": "markdown",
   "metadata": {},
   "source": [
    "### Plotting the loss\n",
    "---\n",
    "\n",
    "As human beings we are naturally visual creatures. For us a plot works much better than a lots of numbers."
   ]
  },
  {
   "cell_type": "code",
   "execution_count": 12,
   "metadata": {},
   "outputs": [
    {
     "data": {
      "text/plain": [
       "[<matplotlib.lines.Line2D at 0x7f7a8371b278>]"
      ]
     },
     "execution_count": 12,
     "metadata": {},
     "output_type": "execute_result"
    },
    {
     "data": {
      "image/png": "[encoded data removed]",
      "text/plain": [
       "<Figure size 432x288 with 1 Axes>"
      ]
     },
     "metadata": {},
     "output_type": "display_data"
    }
   ],
   "source": [
    "%matplotlib inline\n",
    "import matplotlib.pyplot as plt\n",
    "\n",
    "plt.plot(loss_epochs)"
   ]
  },
  {
   "cell_type": "markdown",
   "metadata": {},
   "source": [
    "#### Exercise\n",
    "---\n",
    "\n",
    "Do the same with the two hidden layer network"
   ]
  },
  {
   "cell_type": "code",
   "execution_count": null,
   "metadata": {},
   "outputs": [],
   "source": []
  },
  {
   "cell_type": "markdown",
   "metadata": {},
   "source": [
    "### Accuracy\n",
    "---\n",
    "\n",
    "As with any other machine learning algorithm what we want is that a trained neural network works well on unseen data. Let us see what happens when we try to use our network to predict the digits of the test set"
   ]
  },
  {
   "cell_type": "code",
   "execution_count": 1,
   "metadata": {},
   "outputs": [
    {
     "ename": "NameError",
     "evalue": "name 'testloader' is not defined",
     "output_type": "error",
     "traceback": [
      "\u001b[0;31m---------------------------------------------------------------------------\u001b[0m",
      "\u001b[0;31mNameError\u001b[0m                                 Traceback (most recent call last)",
      "\u001b[0;32m<ipython-input-1-e1d7ad74ea74>\u001b[0m in \u001b[0;36m<module>\u001b[0;34m()\u001b[0m\n\u001b[1;32m      1\u001b[0m \u001b[0mrunning_loss\u001b[0m \u001b[0;34m=\u001b[0m \u001b[0;36m0\u001b[0m\u001b[0;34m\u001b[0m\u001b[0;34m\u001b[0m\u001b[0m\n\u001b[0;32m----> 2\u001b[0;31m \u001b[0;32mfor\u001b[0m \u001b[0mi\u001b[0m\u001b[0;34m,\u001b[0m \u001b[0mdata\u001b[0m \u001b[0;32min\u001b[0m \u001b[0menumerate\u001b[0m\u001b[0;34m(\u001b[0m\u001b[0mtestloader\u001b[0m\u001b[0;34m)\u001b[0m\u001b[0;34m:\u001b[0m\u001b[0;34m\u001b[0m\u001b[0;34m\u001b[0m\u001b[0m\n\u001b[0m\u001b[1;32m      3\u001b[0m \u001b[0;34m\u001b[0m\u001b[0m\n\u001b[1;32m      4\u001b[0m     \u001b[0minputs\u001b[0m\u001b[0;34m,\u001b[0m \u001b[0mlabels\u001b[0m \u001b[0;34m=\u001b[0m \u001b[0mdata\u001b[0m\u001b[0;34m\u001b[0m\u001b[0;34m\u001b[0m\u001b[0m\n\u001b[1;32m      5\u001b[0m     \u001b[0moutputs\u001b[0m \u001b[0;34m=\u001b[0m \u001b[0mnet\u001b[0m\u001b[0;34m(\u001b[0m\u001b[0minputs\u001b[0m\u001b[0;34m)\u001b[0m\u001b[0;34m\u001b[0m\u001b[0;34m\u001b[0m\u001b[0m\n",
      "\u001b[0;31mNameError\u001b[0m: name 'testloader' is not defined"
     ]
    }
   ],
   "source": [
    "running_loss = 0\n",
    "for i, data in enumerate(testloader):\n",
    "    \n",
    "    inputs, labels = data\n",
    "    outputs = net(inputs)\n",
    "    loss = criterion(outputs, labels)\n",
    "    running_loss += loss.item()\n",
    "    \n",
    "average_loss = running_loss / len(testloader)\n",
    "print(f'Test accuracy: {average_loss}')"
   ]
  },
  {
   "cell_type": "markdown",
   "metadata": {},
   "source": [
    "#### Exercise\n",
    "---\n",
    "\n",
    "Do the same with the two hidden layer network"
   ]
  },
  {
   "cell_type": "code",
   "execution_count": null,
   "metadata": {},
   "outputs": [],
   "source": []
  },
  {
   "cell_type": "markdown",
   "metadata": {},
   "source": [
    "### Plotting the predictions\n",
    "---\n",
    "\n",
    "As before an image is worth a thousand words, let us see which images out algorithm takes as input and what it predicts."
   ]
  },
  {
   "cell_type": "code",
   "execution_count": 14,
   "metadata": {},
   "outputs": [],
   "source": [
    "import numpy as np\n",
    "\n",
    "def show(img):\n",
    "    npimg = img.numpy()\n",
    "    plt.imshow(np.transpose(npimg, (1,2,0)))"
   ]
  },
  {
   "cell_type": "code",
   "execution_count": 15,
   "metadata": {},
   "outputs": [
    {
     "name": "stderr",
     "output_type": "stream",
     "text": [
      "Clipping input data to the valid range for imshow with RGB data ([0..1] for floats or [0..255] for integers).\n"
     ]
    },
    {
     "data": {
      "image/png": "[encoded data removed]",
      "text/plain": [
       "<Figure size 432x288 with 1 Axes>"
      ]
     },
     "metadata": {},
     "output_type": "display_data"
    }
   ],
   "source": [
    "from torchvision.utils import make_grid\n",
    "\n",
    "dataiter = iter(testloader)\n",
    "images, labels = dataiter.next()\n",
    "\n",
    "img = images.view((-1, 1, 28, 28))\n",
    "grid = make_grid(img, nrow=10)\n",
    "\n",
    "# print images\n",
    "show(grid)"
   ]
  },
  {
   "cell_type": "code",
   "execution_count": 16,
   "metadata": {},
   "outputs": [],
   "source": [
    "outputs = net(images)\n",
    "_, predicted = torch.max(outputs, 1)"
   ]
  },
  {
   "cell_type": "code",
   "execution_count": 17,
   "metadata": {},
   "outputs": [
    {
     "data": {
      "text/plain": [
       "tensor([[7, 2, 1, 0, 4, 1, 4, 9, 6, 9],\n",
       "        [0, 6, 9, 0, 1, 5, 9, 7, 3, 4],\n",
       "        [9, 6, 6, 5, 4, 0, 7, 4, 0, 1],\n",
       "        [3, 1, 3, 4, 7, 2, 7, 1, 2, 1],\n",
       "        [1, 7, 4, 2, 3, 5, 1, 2, 4, 4],\n",
       "        [6, 3, 5, 5, 6, 0, 4, 1, 9, 5],\n",
       "        [7, 8, 9, 3, 7, 4, 6, 4, 3, 0],\n",
       "        [7, 0, 2, 9, 1, 7, 3, 2, 9, 7],\n",
       "        [7, 6, 2, 7, 8, 4, 7, 3, 6, 1],\n",
       "        [3, 6, 4, 3, 1, 4, 1, 7, 6, 9]])"
      ]
     },
     "execution_count": 17,
     "metadata": {},
     "output_type": "execute_result"
    }
   ],
   "source": [
    "predicted.view(10,10)"
   ]
  },
  {
   "cell_type": "markdown",
   "metadata": {},
   "source": [
    "#### Exercise\n",
    "---\n",
    "\n",
    "Do the same for the two hidden layer network"
   ]
  },
  {
   "cell_type": "code",
   "execution_count": null,
   "metadata": {},
   "outputs": [],
   "source": []
  },
  {
   "cell_type": "markdown",
   "metadata": {},
   "source": [
    "### Convolutional Neural Networks\n",
    "---\n",
    "\n",
    "Fully connected neural networks are optimal when it comes to process images. Intuively the problem is that they are not able to capture local informations that can be repeated around an image. For example, we would like that one bunch of neurons leans to capture the concept of edge, another the concept of corner, etc. Fully connected neural networks cannot do that easily. Convolutional neural networks are designed to do that.\n",
    "\n"
   ]
  },
  {
   "cell_type": "code",
   "execution_count": 26,
   "metadata": {},
   "outputs": [],
   "source": [
    "# Convolutional neural network (two convolutional layers)\n",
    "class ConvNet(nn.Module):\n",
    "    def __init__(self, num_classes=10):\n",
    "        super(ConvNet, self).__init__()\n",
    "        self.layer1 = nn.Sequential(\n",
    "            nn.Conv2d(1, 16, kernel_size=5, stride=1, padding=2),\n",
    "            nn.BatchNorm2d(16),\n",
    "            nn.ReLU(),\n",
    "            nn.MaxPool2d(kernel_size=2, stride=2))\n",
    "        self.layer2 = nn.Sequential(\n",
    "            nn.Conv2d(16, 32, kernel_size=5, stride=1, padding=2),\n",
    "            nn.BatchNorm2d(32),\n",
    "            nn.ReLU(),\n",
    "            nn.MaxPool2d(kernel_size=2, stride=2))\n",
    "        self.fc = nn.Linear(7*7*32, num_classes)\n",
    "        \n",
    "    def forward(self, x):\n",
    "        out = self.layer1(x)\n",
    "        out = self.layer2(out)\n",
    "        out = out.reshape(out.size(0), -1)\n",
    "        out = self.fc(out)\n",
    "        return out\n",
    "    \n",
    "net = ConvNet()"
   ]
  },
  {
   "cell_type": "code",
   "execution_count": 27,
   "metadata": {},
   "outputs": [
    {
     "name": "stdout",
     "output_type": "stream",
     "text": [
      "Epoch: 0 ===> Loss: 2.384460839430491\n",
      "Epoch: 1 ===> Loss: 2.3845145511627197\n",
      "Epoch: 2 ===> Loss: 2.3844826785723368\n"
     ]
    },
    {
     "name": "stderr",
     "output_type": "stream",
     "text": [
      "Traceback (most recent call last):\n",
      "  File \"/usr/lib/python3.6/multiprocessing/queues.py\", line 240, in _feed\n",
      "    send_bytes(obj)\n",
      "  File \"/usr/lib/python3.6/multiprocessing/connection.py\", line 200, in send_bytes\n",
      "    self._send_bytes(m[offset:offset + size])\n",
      "  File \"/usr/lib/python3.6/multiprocessing/connection.py\", line 404, in _send_bytes\n",
      "    self._send(header + buf)\n",
      "  File \"/usr/lib/python3.6/multiprocessing/connection.py\", line 368, in _send\n",
      "    n = write(self._handle, buf)\n",
      "BrokenPipeError: [Errno 32] Broken pipe\n",
      "Traceback (most recent call last):\n",
      "  File \"/usr/lib/python3.6/multiprocessing/queues.py\", line 240, in _feed\n",
      "    send_bytes(obj)\n",
      "  File \"/usr/lib/python3.6/multiprocessing/connection.py\", line 200, in send_bytes\n",
      "    self._send_bytes(m[offset:offset + size])\n",
      "  File \"/usr/lib/python3.6/multiprocessing/connection.py\", line 404, in _send_bytes\n",
      "    self._send(header + buf)\n",
      "  File \"/usr/lib/python3.6/multiprocessing/connection.py\", line 368, in _send\n",
      "    n = write(self._handle, buf)\n",
      "BrokenPipeError: [Errno 32] Broken pipe\n"
     ]
    },
    {
     "ename": "KeyboardInterrupt",
     "evalue": "",
     "output_type": "error",
     "traceback": [
      "\u001b[0;31m---------------------------------------------------------------------------\u001b[0m",
      "\u001b[0;31mKeyboardInterrupt\u001b[0m                         Traceback (most recent call last)",
      "\u001b[0;32m<ipython-input-27-f32455e3d7be>\u001b[0m in \u001b[0;36m<module>\u001b[0;34m()\u001b[0m\n\u001b[0;32m----> 1\u001b[0;31m \u001b[0mtraining\u001b[0m\u001b[0;34m(\u001b[0m\u001b[0mnb_epochs\u001b[0m\u001b[0;34m,\u001b[0m \u001b[0mnet\u001b[0m\u001b[0;34m)\u001b[0m\u001b[0;34m\u001b[0m\u001b[0;34m\u001b[0m\u001b[0m\n\u001b[0m\u001b[1;32m      2\u001b[0m \u001b[0mprint\u001b[0m\u001b[0;34m(\u001b[0m\u001b[0;34m'Finished Training'\u001b[0m\u001b[0;34m)\u001b[0m\u001b[0;34m\u001b[0m\u001b[0;34m\u001b[0m\u001b[0m\n",
      "\u001b[0;32m<ipython-input-24-1d5b95873ecb>\u001b[0m in \u001b[0;36mtraining\u001b[0;34m(nb_epochs, net)\u001b[0m\n\u001b[1;32m     13\u001b[0m             \u001b[0moutputs\u001b[0m \u001b[0;34m=\u001b[0m \u001b[0mnet\u001b[0m\u001b[0;34m(\u001b[0m\u001b[0minputs\u001b[0m\u001b[0;34m)\u001b[0m\u001b[0;34m\u001b[0m\u001b[0;34m\u001b[0m\u001b[0m\n\u001b[1;32m     14\u001b[0m             \u001b[0mloss\u001b[0m \u001b[0;34m=\u001b[0m \u001b[0mcriterion\u001b[0m\u001b[0;34m(\u001b[0m\u001b[0moutputs\u001b[0m\u001b[0;34m,\u001b[0m \u001b[0mlabels\u001b[0m\u001b[0;34m)\u001b[0m\u001b[0;34m\u001b[0m\u001b[0;34m\u001b[0m\u001b[0m\n\u001b[0;32m---> 15\u001b[0;31m             \u001b[0mloss\u001b[0m\u001b[0;34m.\u001b[0m\u001b[0mbackward\u001b[0m\u001b[0;34m(\u001b[0m\u001b[0;34m)\u001b[0m\u001b[0;34m\u001b[0m\u001b[0;34m\u001b[0m\u001b[0m\n\u001b[0m\u001b[1;32m     16\u001b[0m             \u001b[0moptimizer\u001b[0m\u001b[0;34m.\u001b[0m\u001b[0mstep\u001b[0m\u001b[0;34m(\u001b[0m\u001b[0;34m)\u001b[0m\u001b[0;34m\u001b[0m\u001b[0;34m\u001b[0m\u001b[0m\n\u001b[1;32m     17\u001b[0m \u001b[0;34m\u001b[0m\u001b[0m\n",
      "\u001b[0;32m~/.local/lib/python3.6/site-packages/torch/tensor.py\u001b[0m in \u001b[0;36mbackward\u001b[0;34m(self, gradient, retain_graph, create_graph)\u001b[0m\n\u001b[1;32m    100\u001b[0m                 \u001b[0mproducts\u001b[0m\u001b[0;34m.\u001b[0m \u001b[0mDefaults\u001b[0m \u001b[0mto\u001b[0m\u001b[0;31m \u001b[0m\u001b[0;31m`\u001b[0m\u001b[0;31m`\u001b[0m\u001b[0;32mFalse\u001b[0m\u001b[0;31m`\u001b[0m\u001b[0;31m`\u001b[0m\u001b[0;34m.\u001b[0m\u001b[0;34m\u001b[0m\u001b[0;34m\u001b[0m\u001b[0m\n\u001b[1;32m    101\u001b[0m         \"\"\"\n\u001b[0;32m--> 102\u001b[0;31m         \u001b[0mtorch\u001b[0m\u001b[0;34m.\u001b[0m\u001b[0mautograd\u001b[0m\u001b[0;34m.\u001b[0m\u001b[0mbackward\u001b[0m\u001b[0;34m(\u001b[0m\u001b[0mself\u001b[0m\u001b[0;34m,\u001b[0m \u001b[0mgradient\u001b[0m\u001b[0;34m,\u001b[0m \u001b[0mretain_graph\u001b[0m\u001b[0;34m,\u001b[0m \u001b[0mcreate_graph\u001b[0m\u001b[0;34m)\u001b[0m\u001b[0;34m\u001b[0m\u001b[0;34m\u001b[0m\u001b[0m\n\u001b[0m\u001b[1;32m    103\u001b[0m \u001b[0;34m\u001b[0m\u001b[0m\n\u001b[1;32m    104\u001b[0m     \u001b[0;32mdef\u001b[0m \u001b[0mregister_hook\u001b[0m\u001b[0;34m(\u001b[0m\u001b[0mself\u001b[0m\u001b[0;34m,\u001b[0m \u001b[0mhook\u001b[0m\u001b[0;34m)\u001b[0m\u001b[0;34m:\u001b[0m\u001b[0;34m\u001b[0m\u001b[0;34m\u001b[0m\u001b[0m\n",
      "\u001b[0;32m~/.local/lib/python3.6/site-packages/torch/autograd/__init__.py\u001b[0m in \u001b[0;36mbackward\u001b[0;34m(tensors, grad_tensors, retain_graph, create_graph, grad_variables)\u001b[0m\n\u001b[1;32m     88\u001b[0m     Variable._execution_engine.run_backward(\n\u001b[1;32m     89\u001b[0m         \u001b[0mtensors\u001b[0m\u001b[0;34m,\u001b[0m \u001b[0mgrad_tensors\u001b[0m\u001b[0;34m,\u001b[0m \u001b[0mretain_graph\u001b[0m\u001b[0;34m,\u001b[0m \u001b[0mcreate_graph\u001b[0m\u001b[0;34m,\u001b[0m\u001b[0;34m\u001b[0m\u001b[0;34m\u001b[0m\u001b[0m\n\u001b[0;32m---> 90\u001b[0;31m         allow_unreachable=True)  # allow_unreachable flag\n\u001b[0m\u001b[1;32m     91\u001b[0m \u001b[0;34m\u001b[0m\u001b[0m\n\u001b[1;32m     92\u001b[0m \u001b[0;34m\u001b[0m\u001b[0m\n",
      "\u001b[0;31mKeyboardInterrupt\u001b[0m: "
     ]
    }
   ],
   "source": [
    "training(nb_epochs, net)\n",
    "print('Finished Training')"
   ]
  },
  {
   "cell_type": "markdown",
   "metadata": {},
   "source": [
    "## Quick!Draw!\n",
    "---\n",
    "Use what you learned to make predictions on the Quick!Draw! dataset"
   ]
  }
 ],
 "metadata": {
  "kernelspec": {
   "display_name": "Python 3",
   "language": "python",
   "name": "python3"
  },
  "language_info": {
   "codemirror_mode": {
    "name": "ipython",
    "version": 3
   },
   "file_extension": ".py",
   "mimetype": "text/x-python",
   "name": "python",
   "nbconvert_exporter": "python",
   "pygments_lexer": "ipython3",
   "version": "3.6.7"
  }
 },
 "nbformat": 4,
 "nbformat_minor": 2
}
