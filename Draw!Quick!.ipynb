{
 "cells": [
  {
   "cell_type": "code",
   "execution_count": 18,
   "metadata": {},
   "outputs": [],
   "source": [
    "import torch\n",
    "from torchvision import transforms\n",
    "from utils import datasets as my_datasets"
   ]
  },
  {
   "cell_type": "code",
   "execution_count": 19,
   "metadata": {},
   "outputs": [],
   "source": [
    "transform = transforms.Compose(\n",
    "    [transforms.ToTensor(),\n",
    "     transforms.transforms.Normalize((0.1307,), (0.3081,))])\n",
    "\n",
    "trainset = my_datasets.MiniQuickDraw(root='./data', train=True, transform=transform)\n",
    "testset = my_datasets.MiniQuickDraw(root='./data', train=False, transform=transform)"
   ]
  },
  {
   "cell_type": "code",
   "execution_count": 20,
   "metadata": {},
   "outputs": [],
   "source": [
    "trainloader = torch.utils.data.DataLoader(trainset, batch_size=100,\n",
    "                                          shuffle=True, num_workers=2)\n",
    "testloader = torch.utils.data.DataLoader(testset, batch_size=100,\n",
    "                                          shuffle=True, num_workers=2)"
   ]
  },
  {
   "cell_type": "code",
   "execution_count": 21,
   "metadata": {},
   "outputs": [],
   "source": [
    "import torch.nn as nn\n",
    "import torch.nn.functional as F"
   ]
  },
  {
   "cell_type": "code",
   "execution_count": 22,
   "metadata": {},
   "outputs": [
    {
     "data": {
      "text/plain": [
       "OneHidden(\n",
       "  (fc1): Linear(in_features=784, out_features=100, bias=True)\n",
       "  (fc2): Linear(in_features=100, out_features=10, bias=True)\n",
       ")"
      ]
     },
     "execution_count": 22,
     "metadata": {},
     "output_type": "execute_result"
    }
   ],
   "source": [
    "class OneHidden(nn.Module):\n",
    "    def __init__(self):\n",
    "        self.input_size = 28*28\n",
    "        \n",
    "        super(OneHidden, self).__init__()\n",
    "        self.fc1 = nn.Linear(self.input_size, 100)\n",
    "        self.fc2 = nn.Linear(100, 10)\n",
    "\n",
    "    def forward(self, x):\n",
    "        x = x.view(-1, self.input_size)\n",
    "        x = F.relu(self.fc1(x))\n",
    "        x = self.fc2(x)\n",
    "        return x\n",
    "\n",
    "net = OneHidden()\n",
    "net"
   ]
  },
  {
   "cell_type": "code",
   "execution_count": 23,
   "metadata": {},
   "outputs": [],
   "source": [
    "criterion = nn.CrossEntropyLoss()"
   ]
  },
  {
   "cell_type": "code",
   "execution_count": 24,
   "metadata": {},
   "outputs": [],
   "source": [
    "import torch.optim as optim\n",
    "optimizer = optim.SGD(net.parameters(), lr=0.001, momentum=0.9)"
   ]
  },
  {
   "cell_type": "code",
   "execution_count": 25,
   "metadata": {},
   "outputs": [],
   "source": [
    "nb_epochs = 20"
   ]
  },
  {
   "cell_type": "code",
   "execution_count": 26,
   "metadata": {},
   "outputs": [],
   "source": [
    "import numpy as np\n",
    "loss_epochs = np.empty(nb_epochs)"
   ]
  },
  {
   "cell_type": "code",
   "execution_count": 27,
   "metadata": {},
   "outputs": [],
   "source": [
    "def training(nb_epochs, net):\n",
    "    for epoch in range(nb_epochs):  # loop over the dataset multiple times\n",
    "\n",
    "        running_loss = 0\n",
    "        for i, data in enumerate(trainloader, 0):\n",
    "            # get the inputs\n",
    "            inputs, labels = data\n",
    "\n",
    "            # zero the parameter gradients\n",
    "            optimizer.zero_grad()\n",
    "\n",
    "            # forward + backward + optimize\n",
    "            outputs = net(inputs)\n",
    "            loss = criterion(outputs, labels)\n",
    "            loss.backward()\n",
    "            optimizer.step()\n",
    "\n",
    "            # print statistics\n",
    "            running_loss += loss.item()\n",
    "\n",
    "        average_loss = running_loss / len(trainloader)\n",
    "        loss_epochs[epoch] = average_loss\n",
    "\n",
    "        print(f'Epoch: {epoch} ===> Loss: {average_loss}')\n"
   ]
  },
  {
   "cell_type": "code",
   "execution_count": 28,
   "metadata": {},
   "outputs": [
    {
     "name": "stdout",
     "output_type": "stream",
     "text": [
      "Epoch: 0 ===> Loss: 1.3066990840435029\n",
      "Epoch: 1 ===> Loss: 0.925830171306928\n",
      "Epoch: 2 ===> Loss: 0.8527766463160514\n",
      "Epoch: 3 ===> Loss: 0.804095846414566\n",
      "Epoch: 4 ===> Loss: 0.7662042043606441\n",
      "Epoch: 5 ===> Loss: 0.7360742948452632\n",
      "Epoch: 6 ===> Loss: 0.7100181769828001\n",
      "Epoch: 7 ===> Loss: 0.6877797552446524\n",
      "Epoch: 8 ===> Loss: 0.6673806915680568\n",
      "Epoch: 9 ===> Loss: 0.6491207520663739\n",
      "Epoch: 10 ===> Loss: 0.6310225625832876\n",
      "Epoch: 11 ===> Loss: 0.6143098778029283\n",
      "Epoch: 12 ===> Loss: 0.5986258241037528\n",
      "Epoch: 13 ===> Loss: 0.5842283921937148\n",
      "Epoch: 14 ===> Loss: 0.5697395913799603\n",
      "Epoch: 15 ===> Loss: 0.5566337154308955\n",
      "Epoch: 16 ===> Loss: 0.5437527822454771\n",
      "Epoch: 17 ===> Loss: 0.531461391200622\n",
      "Epoch: 18 ===> Loss: 0.5199636301398277\n",
      "Epoch: 19 ===> Loss: 0.5087994699676831\n",
      "Finished Training\n"
     ]
    }
   ],
   "source": [
    "training(nb_epochs, net)\n",
    "print('Finished Training')"
   ]
  },
  {
   "cell_type": "code",
   "execution_count": 29,
   "metadata": {},
   "outputs": [
    {
     "data": {
      "text/plain": [
       "[<matplotlib.lines.Line2D at 0x7fd749e62e10>]"
      ]
     },
     "execution_count": 29,
     "metadata": {},
     "output_type": "execute_result"
    },
    {
     "data": {
      "image/png": "[encoded data removed]",
      "text/plain": [
       "<Figure size 432x288 with 1 Axes>"
      ]
     },
     "metadata": {},
     "output_type": "display_data"
    }
   ],
   "source": [
    "%matplotlib inline\n",
    "import matplotlib.pyplot as plt\n",
    "\n",
    "plt.plot(loss_epochs)"
   ]
  },
  {
   "cell_type": "code",
   "execution_count": 30,
   "metadata": {},
   "outputs": [
    {
     "name": "stdout",
     "output_type": "stream",
     "text": [
      "Test accuracy: 0.6068114137649536\n"
     ]
    }
   ],
   "source": [
    "running_loss = 0\n",
    "for i, data in enumerate(testloader):\n",
    "    \n",
    "    inputs, labels = data\n",
    "    outputs = net(inputs)\n",
    "    loss = criterion(outputs, labels)\n",
    "    running_loss += loss.item()\n",
    "    \n",
    "average_loss = running_loss / len(testloader)\n",
    "print(f'Test accuracy: {average_loss}')"
   ]
  },
  {
   "cell_type": "code",
   "execution_count": 31,
   "metadata": {},
   "outputs": [],
   "source": [
    "from utils.plotting import show"
   ]
  },
  {
   "cell_type": "code",
   "execution_count": 32,
   "metadata": {},
   "outputs": [
    {
     "name": "stderr",
     "output_type": "stream",
     "text": [
      "Clipping input data to the valid range for imshow with RGB data ([0..1] for floats or [0..255] for integers).\n"
     ]
    },
    {
     "data": {
      "image/png": "[encoded data removed]",
      "text/plain": [
       "<Figure size 432x288 with 1 Axes>"
      ]
     },
     "metadata": {},
     "output_type": "display_data"
    }
   ],
   "source": [
    "from torchvision.utils import make_grid\n",
    "\n",
    "dataiter = iter(testloader)\n",
    "images, labels = dataiter.next()\n",
    "\n",
    "img = images.view((-1, 1, 28, 28))\n",
    "grid = make_grid(img, nrow=10)\n",
    "\n",
    "# print images\n",
    "show(grid)"
   ]
  },
  {
   "cell_type": "code",
   "execution_count": 34,
   "metadata": {},
   "outputs": [
    {
     "data": {
      "text/plain": [
       "tensor([[9, 9, 4, 0, 8, 7, 1, 3, 8, 2],\n",
       "        [0, 0, 4, 6, 1, 1, 0, 3, 6, 2],\n",
       "        [5, 7, 4, 2, 3, 3, 1, 5, 6, 7],\n",
       "        [9, 8, 7, 6, 7, 4, 9, 3, 5, 9],\n",
       "        [7, 6, 1, 3, 5, 5, 3, 3, 4, 1],\n",
       "        [6, 3, 9, 9, 3, 0, 2, 7, 2, 6],\n",
       "        [7, 5, 4, 6, 4, 1, 6, 1, 0, 4],\n",
       "        [2, 4, 5, 8, 5, 5, 3, 2, 1, 7],\n",
       "        [3, 9, 4, 4, 0, 7, 4, 5, 6, 1],\n",
       "        [4, 3, 8, 4, 9, 1, 4, 8, 4, 6]])"
      ]
     },
     "execution_count": 34,
     "metadata": {},
     "output_type": "execute_result"
    }
   ],
   "source": [
    "outputs = net(images)\n",
    "_, predicted = torch.max(outputs, 1)\n",
    "predicted.view(10,10)"
   ]
  },
  {
   "cell_type": "code",
   "execution_count": null,
   "metadata": {},
   "outputs": [],
   "source": []
  }
 ],
 "metadata": {
  "kernelspec": {
   "display_name": "Python 3",
   "language": "python",
   "name": "python3"
  },
  "language_info": {
   "codemirror_mode": {
    "name": "ipython",
    "version": 3
   },
   "file_extension": ".py",
   "mimetype": "text/x-python",
   "name": "python",
   "nbconvert_exporter": "python",
   "pygments_lexer": "ipython3",
   "version": "3.6.7"
  }
 },
 "nbformat": 4,
 "nbformat_minor": 2
}
