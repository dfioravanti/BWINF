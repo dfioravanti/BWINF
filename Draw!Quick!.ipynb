{
 "cells": [
  {
   "cell_type": "markdown",
   "metadata": {},
   "source": [
    "# Deep learning (Do it yourself) - Jugendforum Informatik\n",
    "---"
   ]
  },
  {
   "cell_type": "markdown",
   "metadata": {},
   "source": [
    "Now it is time to put together all you have learned. Here we will guide you to create a neural network able to classify a small subset of the QuickDraw dataset."
   ]
  },
  {
   "cell_type": "code",
   "execution_count": 36,
   "metadata": {},
   "outputs": [],
   "source": [
    "import torch\n",
    "from torchvision import transforms\n",
    "from utils import datasets as my_datasets"
   ]
  },
  {
   "cell_type": "code",
   "execution_count": 37,
   "metadata": {},
   "outputs": [],
   "source": [
    "transform = transforms.Compose(\n",
    "    [transforms.ToTensor()])\n",
    "\n",
    "trainset = my_datasets.MiniQuickDraw(root='./data', train=True, transform=transform)\n",
    "testset = my_datasets.MiniQuickDraw(root='./data', train=False, transform=transform)"
   ]
  },
  {
   "cell_type": "markdown",
   "metadata": {},
   "source": [
    "Write the train and test loader for the train and test dataset"
   ]
  },
  {
   "cell_type": "code",
   "execution_count": 38,
   "metadata": {},
   "outputs": [],
   "source": [
    "trainloader = torch.utils.data.DataLoader(trainset, batch_size=100,\n",
    "                                          shuffle=True, num_workers=2)\n",
    "testloader = torch.utils.data.DataLoader(testset, batch_size=100,\n",
    "                                          shuffle=True, num_workers=2)"
   ]
  },
  {
   "cell_type": "markdown",
   "metadata": {},
   "source": [
    "Create a neural network with 2 hidden layers 784 -> 100 -> 100 -> 10"
   ]
  },
  {
   "cell_type": "code",
   "execution_count": 39,
   "metadata": {},
   "outputs": [],
   "source": [
    "import torch.nn as nn\n",
    "import torch.nn.functional as F"
   ]
  },
  {
   "cell_type": "code",
   "execution_count": 52,
   "metadata": {},
   "outputs": [
    {
     "data": {
      "text/plain": [
       "Net(\n",
       "  (fc1): Linear(in_features=784, out_features=100, bias=True)\n",
       "  (fc2): Linear(in_features=100, out_features=100, bias=True)\n",
       "  (fc3): Linear(in_features=100, out_features=10, bias=True)\n",
       ")"
      ]
     },
     "execution_count": 52,
     "metadata": {},
     "output_type": "execute_result"
    }
   ],
   "source": [
    "class Net(nn.Module):\n",
    "    def __init__(self):\n",
    "        self.input_size = 28*28\n",
    "        \n",
    "        super(Net, self).__init__()\n",
    "        self.fc1 = nn.Linear(self.input_size, 100)\n",
    "        self.fc2 = nn.Linear(100, 100)\n",
    "        self.fc3 = nn.Linear(100, 10)\n",
    "\n",
    "    def forward(self, x):\n",
    "        x = x.view(-1, self.input_size)\n",
    "        x = F.relu(self.fc1(x))\n",
    "        x = F.relu(self.fc2(x))\n",
    "        x = self.fc3(x)\n",
    "        return x\n",
    "\n",
    "net = Net()\n",
    "net"
   ]
  },
  {
   "cell_type": "markdown",
   "metadata": {},
   "source": []
  },
  {
   "cell_type": "code",
   "execution_count": 61,
   "metadata": {},
   "outputs": [],
   "source": [
    "import torch.optim as optim\n",
    "criterion = nn.CrossEntropyLoss()\n",
    "optimizer = optim.SGD(net.parameters(), lr=0.001, momentum=0.9)"
   ]
  },
  {
   "cell_type": "code",
   "execution_count": 62,
   "metadata": {},
   "outputs": [],
   "source": [
    "nb_epochs = 20"
   ]
  },
  {
   "cell_type": "code",
   "execution_count": 63,
   "metadata": {},
   "outputs": [],
   "source": [
    "import numpy as np\n",
    "loss_epochs = np.empty(nb_epochs)"
   ]
  },
  {
   "cell_type": "code",
   "execution_count": 57,
   "metadata": {},
   "outputs": [],
   "source": [
    "def training(nb_epochs, net):\n",
    "    for epoch in range(nb_epochs):  # loop over the dataset multiple times\n",
    "\n",
    "        running_loss = 0\n",
    "        for i, data in enumerate(trainloader, 0):\n",
    "            # get the inputs\n",
    "            inputs, labels = data\n",
    "\n",
    "            # zero the parameter gradients\n",
    "            optimizer.zero_grad()\n",
    "\n",
    "            # forward + backward + optimize\n",
    "            outputs = net(inputs)\n",
    "            loss = criterion(outputs, labels)\n",
    "            loss.backward()\n",
    "            optimizer.step()\n",
    "\n",
    "            # print statistics\n",
    "            running_loss += loss.item()\n",
    "\n",
    "        average_loss = running_loss / len(trainloader)\n",
    "        loss_epochs[epoch] = average_loss\n",
    "\n",
    "        print(f'Epoch: {epoch} ===> Loss: {average_loss}')\n"
   ]
  },
  {
   "cell_type": "code",
   "execution_count": 58,
   "metadata": {},
   "outputs": [
    {
     "name": "stdout",
     "output_type": "stream",
     "text": [
      "Epoch: 0 ===> Loss: 2.224775017897288\n",
      "Epoch: 1 ===> Loss: 1.7997978208462397\n",
      "Epoch: 2 ===> Loss: 1.3407568566004435\n",
      "Epoch: 3 ===> Loss: 1.144146293103695\n",
      "Epoch: 4 ===> Loss: 1.0481383792559307\n",
      "Epoch: 5 ===> Loss: 0.9896007366975148\n",
      "Epoch: 6 ===> Loss: 0.9467614725232124\n",
      "Epoch: 7 ===> Loss: 0.9139686970909436\n",
      "Epoch: 8 ===> Loss: 0.8848237121105194\n",
      "Epoch: 9 ===> Loss: 0.8589340922236443\n",
      "Epoch: 10 ===> Loss: 0.8366215527057648\n",
      "Epoch: 11 ===> Loss: 0.8154322628180186\n",
      "Epoch: 12 ===> Loss: 0.7963179130355517\n",
      "Epoch: 13 ===> Loss: 0.7787751578787963\n",
      "Epoch: 14 ===> Loss: 0.7622341672082742\n",
      "Epoch: 15 ===> Loss: 0.747209358115991\n",
      "Epoch: 16 ===> Loss: 0.7328102625409763\n",
      "Epoch: 17 ===> Loss: 0.7199183895687262\n",
      "Epoch: 18 ===> Loss: 0.7071818616986275\n",
      "Epoch: 19 ===> Loss: 0.6952954239149889\n",
      "Finished Training\n"
     ]
    }
   ],
   "source": [
    "training(nb_epochs, net)\n",
    "print('Finished Training')"
   ]
  },
  {
   "cell_type": "code",
   "execution_count": 65,
   "metadata": {},
   "outputs": [
    {
     "data": {
      "text/plain": [
       "[<matplotlib.lines.Line2D at 0x7fd749fd6a58>]"
      ]
     },
     "execution_count": 65,
     "metadata": {},
     "output_type": "execute_result"
    },
    {
     "data": {
      "image/png": "[encoded data removed]",
      "text/plain": [
       "<Figure size 432x288 with 1 Axes>"
      ]
     },
     "metadata": {},
     "output_type": "display_data"
    }
   ],
   "source": [
    "%matplotlib inline\n",
    "import matplotlib.pyplot as plt\n",
    "\n",
    "plt.plot(loss_epochs)"
   ]
  },
  {
   "cell_type": "code",
   "execution_count": 66,
   "metadata": {},
   "outputs": [
    {
     "name": "stdout",
     "output_type": "stream",
     "text": [
      "Test loss: 0.7254614466428757\n"
     ]
    }
   ],
   "source": [
    "running_loss = 0\n",
    "for i, data in enumerate(testloader):\n",
    "    \n",
    "    inputs, labels = data\n",
    "    outputs = net(inputs)\n",
    "    loss = criterion(outputs, labels)\n",
    "    running_loss += loss.item()\n",
    "    \n",
    "average_loss = running_loss / len(testloader)\n",
    "print(f'Test loss: {average_loss}')"
   ]
  },
  {
   "cell_type": "code",
   "execution_count": 67,
   "metadata": {},
   "outputs": [],
   "source": [
    "from utils.plotting import show"
   ]
  },
  {
   "cell_type": "code",
   "execution_count": 68,
   "metadata": {},
   "outputs": [
    {
     "data": {
      "image/png": "[encoded data removed]",
      "text/plain": [
       "<Figure size 432x288 with 1 Axes>"
      ]
     },
     "metadata": {},
     "output_type": "display_data"
    }
   ],
   "source": [
    "from torchvision.utils import make_grid\n",
    "\n",
    "dataiter = iter(testloader)\n",
    "images, labels = dataiter.next()\n",
    "\n",
    "img = images.view((-1, 1, 28, 28))\n",
    "grid = make_grid(img, nrow=10)\n",
    "\n",
    "# print images\n",
    "show(grid)"
   ]
  },
  {
   "cell_type": "code",
   "execution_count": 69,
   "metadata": {},
   "outputs": [
    {
     "data": {
      "text/plain": [
       "tensor([[7, 5, 0, 0, 3, 1, 5, 0, 4, 4],\n",
       "        [3, 5, 5, 1, 8, 6, 4, 0, 0, 0],\n",
       "        [1, 0, 6, 2, 7, 5, 5, 4, 3, 4],\n",
       "        [6, 3, 6, 1, 9, 2, 9, 8, 7, 3],\n",
       "        [9, 0, 4, 1, 1, 5, 2, 1, 7, 3],\n",
       "        [7, 2, 1, 6, 6, 4, 5, 7, 8, 1],\n",
       "        [4, 2, 5, 3, 2, 4, 6, 1, 3, 9],\n",
       "        [1, 9, 8, 3, 0, 9, 4, 7, 0, 4],\n",
       "        [2, 3, 1, 8, 1, 1, 0, 4, 5, 3],\n",
       "        [9, 7, 8, 1, 5, 3, 6, 5, 1, 0]])"
      ]
     },
     "execution_count": 69,
     "metadata": {},
     "output_type": "execute_result"
    }
   ],
   "source": [
    "outputs = net(images)\n",
    "_, predicted = torch.max(outputs, 1)\n",
    "predicted.view(10,10)"
   ]
  },
  {
   "cell_type": "markdown",
   "metadata": {},
   "source": [
    "You can see what the lable mean with "
   ]
  },
  {
   "cell_type": "code",
   "execution_count": 70,
   "metadata": {},
   "outputs": [
    {
     "data": {
      "text/plain": [
       "{0: 'soccer ball',\n",
       " 1: 'map',\n",
       " 2: 'rainbow',\n",
       " 3: 'calendar',\n",
       " 4: 'airplane',\n",
       " 5: 'mountain',\n",
       " 6: 'hospital',\n",
       " 7: 'pizza',\n",
       " 8: 'hand',\n",
       " 9: 'cake'}"
      ]
     },
     "execution_count": 70,
     "metadata": {},
     "output_type": "execute_result"
    }
   ],
   "source": [
    "my_datasets.MiniQuickDraw.meaning_labels"
   ]
  }
 ],
 "metadata": {
  "kernelspec": {
   "display_name": "Python 3",
   "language": "python",
   "name": "python3"
  },
  "language_info": {
   "codemirror_mode": {
    "name": "ipython",
    "version": 3
   },
   "file_extension": ".py",
   "mimetype": "text/x-python",
   "name": "python",
   "nbconvert_exporter": "python",
   "pygments_lexer": "ipython3",
   "version": "3.6.7"
  }
 },
 "nbformat": 4,
 "nbformat_minor": 2
}
